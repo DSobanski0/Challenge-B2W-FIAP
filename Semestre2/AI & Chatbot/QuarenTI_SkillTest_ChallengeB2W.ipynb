{
  "nbformat": 4,
  "nbformat_minor": 0,
  "metadata": {
    "colab": {
      "name": "QuarenTI_SkillTest_ChallengeB2W.ipynb",
      "provenance": []
    },
    "kernelspec": {
      "name": "python3",
      "display_name": "Python 3"
    }
  },
  "cells": [
    {
      "cell_type": "code",
      "metadata": {
        "id": "GOmOjyBarVzB"
      },
      "source": [
        "# Importação das bibliotecas\n",
        "import pandas as pd\n",
        "from sklearn.model_selection import train_test_split\n",
        "from sklearn.preprocessing import LabelEncoder\n",
        "from sklearn.metrics import confusion_matrix, accuracy_score\n",
        "from sklearn.tree import DecisionTreeClassifier\n",
        "import graphviz\n",
        "from sklearn.tree import export_graphviz"
      ],
      "execution_count": null,
      "outputs": []
    },
    {
      "cell_type": "code",
      "metadata": {
        "id": "viFm7rewrble"
      },
      "source": [
        "from google_drive_downloader import GoogleDriveDownloader as gdd\n",
        "\n",
        "# Fazendo download dos dados\n",
        "data_google_id = '18H3ODofNbU2LuiLhtDNdKajQaLm6eKPW'\n",
        "gdd.download_file_from_google_drive(file_id=data_google_id, \n",
        "                                    dest_path = './Dados do sistema.csv', \n",
        "                                    showsize = True)"
      ],
      "execution_count": null,
      "outputs": []
    },
    {
      "cell_type": "code",
      "metadata": {
        "id": "OB0SkPSZrtfF"
      },
      "source": [
        "dados = pd.read_csv(\"Dados do sistema.csv\", sep=\";\")"
      ],
      "execution_count": null,
      "outputs": []
    },
    {
      "cell_type": "code",
      "metadata": {
        "id": "92HE-Rocr1q8",
        "outputId": "6503d63f-854f-4143-d744-130212f87096",
        "colab": {
          "base_uri": "https://localhost:8080/",
          "height": 195
        }
      },
      "source": [
        "dados.head()"
      ],
      "execution_count": null,
      "outputs": [
        {
          "output_type": "execute_result",
          "data": {
            "text/html": [
              "<div>\n",
              "<style scoped>\n",
              "    .dataframe tbody tr th:only-of-type {\n",
              "        vertical-align: middle;\n",
              "    }\n",
              "\n",
              "    .dataframe tbody tr th {\n",
              "        vertical-align: top;\n",
              "    }\n",
              "\n",
              "    .dataframe thead th {\n",
              "        text-align: right;\n",
              "    }\n",
              "</style>\n",
              "<table border=\"1\" class=\"dataframe\">\n",
              "  <thead>\n",
              "    <tr style=\"text-align: right;\">\n",
              "      <th></th>\n",
              "      <th>Cargo selecionado</th>\n",
              "      <th>Idade</th>\n",
              "      <th>Organização</th>\n",
              "      <th>Liderança</th>\n",
              "      <th>Proatividade</th>\n",
              "      <th>Empatia</th>\n",
              "      <th>Respeito</th>\n",
              "      <th>Facilidade com o sist.</th>\n",
              "      <th>Raciocicínio lógico</th>\n",
              "      <th>Competência do func.</th>\n",
              "    </tr>\n",
              "  </thead>\n",
              "  <tbody>\n",
              "    <tr>\n",
              "      <th>0</th>\n",
              "      <td>Desenvolvedor Java</td>\n",
              "      <td>18</td>\n",
              "      <td>3</td>\n",
              "      <td>9</td>\n",
              "      <td>1</td>\n",
              "      <td>10</td>\n",
              "      <td>2</td>\n",
              "      <td>10</td>\n",
              "      <td>6</td>\n",
              "      <td>Bom</td>\n",
              "    </tr>\n",
              "    <tr>\n",
              "      <th>1</th>\n",
              "      <td>Analista de projetos jr.</td>\n",
              "      <td>20</td>\n",
              "      <td>8</td>\n",
              "      <td>7</td>\n",
              "      <td>10</td>\n",
              "      <td>10</td>\n",
              "      <td>1</td>\n",
              "      <td>2</td>\n",
              "      <td>10</td>\n",
              "      <td>Ótimo</td>\n",
              "    </tr>\n",
              "    <tr>\n",
              "      <th>2</th>\n",
              "      <td>Desenvolvedor Mobile</td>\n",
              "      <td>25</td>\n",
              "      <td>5</td>\n",
              "      <td>3</td>\n",
              "      <td>5</td>\n",
              "      <td>2</td>\n",
              "      <td>0</td>\n",
              "      <td>4</td>\n",
              "      <td>0</td>\n",
              "      <td>Bom</td>\n",
              "    </tr>\n",
              "    <tr>\n",
              "      <th>3</th>\n",
              "      <td>Modelador de dados</td>\n",
              "      <td>23</td>\n",
              "      <td>5</td>\n",
              "      <td>3</td>\n",
              "      <td>7</td>\n",
              "      <td>5</td>\n",
              "      <td>5</td>\n",
              "      <td>1</td>\n",
              "      <td>10</td>\n",
              "      <td>Regular</td>\n",
              "    </tr>\n",
              "    <tr>\n",
              "      <th>4</th>\n",
              "      <td>Analista financeiro</td>\n",
              "      <td>18</td>\n",
              "      <td>7</td>\n",
              "      <td>10</td>\n",
              "      <td>5</td>\n",
              "      <td>2</td>\n",
              "      <td>0</td>\n",
              "      <td>1</td>\n",
              "      <td>3</td>\n",
              "      <td>Ruim</td>\n",
              "    </tr>\n",
              "  </tbody>\n",
              "</table>\n",
              "</div>"
            ],
            "text/plain": [
              "          Cargo selecionado  Idade  ...  Raciocicínio lógico  Competência do func.\n",
              "0        Desenvolvedor Java     18  ...                    6                   Bom\n",
              "1  Analista de projetos jr.     20  ...                   10                 Ótimo\n",
              "2      Desenvolvedor Mobile     25  ...                    0                   Bom\n",
              "3        Modelador de dados     23  ...                   10               Regular\n",
              "4       Analista financeiro     18  ...                    3                  Ruim\n",
              "\n",
              "[5 rows x 10 columns]"
            ]
          },
          "metadata": {
            "tags": []
          },
          "execution_count": 6
        }
      ]
    },
    {
      "cell_type": "code",
      "metadata": {
        "id": "ThCtdHBD1AnC",
        "outputId": "bcb77e6c-029d-4027-9087-066c4365021d",
        "colab": {
          "base_uri": "https://localhost:8080/"
        }
      },
      "source": [
        "dados.shape"
      ],
      "execution_count": null,
      "outputs": [
        {
          "output_type": "execute_result",
          "data": {
            "text/plain": [
              "(40, 10)"
            ]
          },
          "metadata": {
            "tags": []
          },
          "execution_count": 8
        }
      ]
    },
    {
      "cell_type": "code",
      "metadata": {
        "id": "CIGLppCj1KLN"
      },
      "source": [
        "previsores = dados.iloc[:,0:9].values\n",
        "classe = dados.iloc[:,9].values"
      ],
      "execution_count": null,
      "outputs": []
    },
    {
      "cell_type": "code",
      "metadata": {
        "id": "drpavJSI1aJ-",
        "outputId": "846590bd-fffc-4916-b3f6-30eaacd2bfbb",
        "colab": {
          "base_uri": "https://localhost:8080/"
        }
      },
      "source": [
        "previsores"
      ],
      "execution_count": null,
      "outputs": [
        {
          "output_type": "execute_result",
          "data": {
            "text/plain": [
              "array([['Desenvolvedor Java', 18, 3, 9, 1, 10, 2, 10, 6],\n",
              "       ['Analista de projetos jr.', 20, 8, 7, 10, 10, 1, 2, 10],\n",
              "       ['Desenvolvedor Mobile', 25, 5, 3, 5, 2, 0, 4, 0],\n",
              "       ['Modelador de dados', 23, 5, 3, 7, 5, 5, 1, 10],\n",
              "       ['Analista financeiro', 18, 7, 10, 5, 2, 0, 1, 3],\n",
              "       ['Auxiliar depto. pessoal', 19, 7, 5, 10, 6, 6, 2, 10],\n",
              "       ['Analista de contas', 21, 0, 1, 10, 3, 6, 9, 1],\n",
              "       ['Represent. comercial', 21, 5, 9, 4, 8, 1, 4, 4],\n",
              "       ['Auxiliar de marketing', 22, 10, 1, 4, 3, 2, 3, 5],\n",
              "       ['Analista banco de dados', 24, 4, 7, 4, 8, 1, 2, 9],\n",
              "       ['Front-end', 26, 6, 6, 4, 1, 1, 9, 4],\n",
              "       ['Projetista de software', 18, 9, 2, 0, 7, 0, 4, 4],\n",
              "       ['Auxiliar de contas a pagar', 20, 6, 0, 0, 7, 10, 8, 3],\n",
              "       ['Desenvolvedor Java', 21, 1, 6, 2, 0, 4, 1, 5],\n",
              "       ['Analista de projetos jr.', 20, 0, 0, 1, 9, 1, 1, 4],\n",
              "       ['Desenvolvedor Mobile', 19, 9, 5, 9, 9, 1, 5, 7],\n",
              "       ['Modelador de dados', 23, 5, 8, 3, 3, 1, 2, 4],\n",
              "       ['Analista financeiro', 24, 6, 5, 10, 0, 5, 2, 7],\n",
              "       ['Auxiliar depto. pessoal', 21, 10, 8, 9, 2, 0, 5, 0],\n",
              "       ['Analista de contas', 18, 10, 1, 0, 0, 0, 8, 9],\n",
              "       ['Represent. comercial', 19, 9, 8, 5, 10, 6, 4, 3],\n",
              "       ['Auxiliar de marketing', 25, 5, 8, 3, 6, 8, 4, 8],\n",
              "       ['Analista banco de dados', 23, 2, 0, 1, 9, 0, 4, 10],\n",
              "       ['Front-end', 26, 1, 10, 0, 10, 3, 2, 2],\n",
              "       ['Projetista de software', 22, 2, 2, 10, 9, 8, 9, 6],\n",
              "       ['Auxiliar de contas a pagar', 21, 0, 5, 10, 7, 3, 5, 2],\n",
              "       ['Desenvolvedor Java', 20, 6, 9, 7, 6, 0, 0, 4],\n",
              "       ['Analista de projetos jr.', 18, 8, 5, 1, 4, 3, 5, 2],\n",
              "       ['Desenvolvedor Mobile', 20, 10, 1, 2, 1, 3, 2, 10],\n",
              "       ['Modelador de dados', 22, 2, 2, 10, 4, 0, 1, 3],\n",
              "       ['Analista financeiro', 23, 9, 8, 4, 3, 6, 3, 2],\n",
              "       ['Auxiliar depto. pessoal', 21, 7, 3, 4, 5, 2, 4, 4],\n",
              "       ['Analista de contas', 22, 9, 5, 0, 10, 9, 8, 9],\n",
              "       ['Represent. comercial', 18, 0, 2, 1, 8, 7, 5, 4],\n",
              "       ['Auxiliar de marketing', 20, 1, 8, 2, 4, 3, 3, 0],\n",
              "       ['Analista banco de dados', 26, 4, 10, 9, 0, 9, 9, 2],\n",
              "       ['Front-end', 27, 2, 7, 6, 2, 1, 7, 7],\n",
              "       ['Projetista de software', 24, 3, 2, 10, 10, 8, 5, 2],\n",
              "       ['Auxiliar de contas a pagar', 25, 4, 0, 5, 0, 7, 8, 2],\n",
              "       ['Desenvolvedor Java', 24, 5, 10, 7, 8, 7, 4, 7]], dtype=object)"
            ]
          },
          "metadata": {
            "tags": []
          },
          "execution_count": 11
        }
      ]
    },
    {
      "cell_type": "code",
      "metadata": {
        "id": "mNOiD34l1c6r",
        "outputId": "632e7883-d520-4691-d43a-dffe3da7ffc5",
        "colab": {
          "base_uri": "https://localhost:8080/"
        }
      },
      "source": [
        "classe"
      ],
      "execution_count": null,
      "outputs": [
        {
          "output_type": "execute_result",
          "data": {
            "text/plain": [
              "array(['Bom', 'Ótimo', 'Bom', 'Regular', 'Ruim', 'Bom', 'Ótimo', 'Bom',\n",
              "       'Péssimo', 'Ótimo', 'Ruim', 'Bom', 'Bom', 'Ótimo', 'Regular',\n",
              "       'Regular', 'Bom', 'Ótimo', 'Ruim', 'Péssimo', 'Bom', 'Ótimo',\n",
              "       'Bom', 'Bom', 'Regular', 'Bom', 'Péssimo', 'Ótimo', 'Ruim', 'Bom',\n",
              "       'Bom', 'Ótimo', 'Regular', 'Regular', 'Bom', 'Ótimo', 'Ruim',\n",
              "       'Péssimo', 'Bom', 'Ótimo'], dtype=object)"
            ]
          },
          "metadata": {
            "tags": []
          },
          "execution_count": 12
        }
      ]
    },
    {
      "cell_type": "code",
      "metadata": {
        "id": "qkmmPluH1dnj"
      },
      "source": [
        "labelencoder = LabelEncoder()\n",
        "previsores[:,0] = labelencoder.fit_transform(previsores[:,0])"
      ],
      "execution_count": null,
      "outputs": []
    },
    {
      "cell_type": "code",
      "metadata": {
        "id": "f0QqDnLC1j48",
        "outputId": "69a27289-aa09-4138-dde4-069b3240c322",
        "colab": {
          "base_uri": "https://localhost:8080/"
        }
      },
      "source": [
        "previsores"
      ],
      "execution_count": null,
      "outputs": [
        {
          "output_type": "execute_result",
          "data": {
            "text/plain": [
              "array([[7, 18, 3, 9, 1, 10, 2, 10, 6],\n",
              "       [2, 20, 8, 7, 10, 10, 1, 2, 10],\n",
              "       [8, 25, 5, 3, 5, 2, 0, 4, 0],\n",
              "       [10, 23, 5, 3, 7, 5, 5, 1, 10],\n",
              "       [3, 18, 7, 10, 5, 2, 0, 1, 3],\n",
              "       [6, 19, 7, 5, 10, 6, 6, 2, 10],\n",
              "       [1, 21, 0, 1, 10, 3, 6, 9, 1],\n",
              "       [12, 21, 5, 9, 4, 8, 1, 4, 4],\n",
              "       [5, 22, 10, 1, 4, 3, 2, 3, 5],\n",
              "       [0, 24, 4, 7, 4, 8, 1, 2, 9],\n",
              "       [9, 26, 6, 6, 4, 1, 1, 9, 4],\n",
              "       [11, 18, 9, 2, 0, 7, 0, 4, 4],\n",
              "       [4, 20, 6, 0, 0, 7, 10, 8, 3],\n",
              "       [7, 21, 1, 6, 2, 0, 4, 1, 5],\n",
              "       [2, 20, 0, 0, 1, 9, 1, 1, 4],\n",
              "       [8, 19, 9, 5, 9, 9, 1, 5, 7],\n",
              "       [10, 23, 5, 8, 3, 3, 1, 2, 4],\n",
              "       [3, 24, 6, 5, 10, 0, 5, 2, 7],\n",
              "       [6, 21, 10, 8, 9, 2, 0, 5, 0],\n",
              "       [1, 18, 10, 1, 0, 0, 0, 8, 9],\n",
              "       [12, 19, 9, 8, 5, 10, 6, 4, 3],\n",
              "       [5, 25, 5, 8, 3, 6, 8, 4, 8],\n",
              "       [0, 23, 2, 0, 1, 9, 0, 4, 10],\n",
              "       [9, 26, 1, 10, 0, 10, 3, 2, 2],\n",
              "       [11, 22, 2, 2, 10, 9, 8, 9, 6],\n",
              "       [4, 21, 0, 5, 10, 7, 3, 5, 2],\n",
              "       [7, 20, 6, 9, 7, 6, 0, 0, 4],\n",
              "       [2, 18, 8, 5, 1, 4, 3, 5, 2],\n",
              "       [8, 20, 10, 1, 2, 1, 3, 2, 10],\n",
              "       [10, 22, 2, 2, 10, 4, 0, 1, 3],\n",
              "       [3, 23, 9, 8, 4, 3, 6, 3, 2],\n",
              "       [6, 21, 7, 3, 4, 5, 2, 4, 4],\n",
              "       [1, 22, 9, 5, 0, 10, 9, 8, 9],\n",
              "       [12, 18, 0, 2, 1, 8, 7, 5, 4],\n",
              "       [5, 20, 1, 8, 2, 4, 3, 3, 0],\n",
              "       [0, 26, 4, 10, 9, 0, 9, 9, 2],\n",
              "       [9, 27, 2, 7, 6, 2, 1, 7, 7],\n",
              "       [11, 24, 3, 2, 10, 10, 8, 5, 2],\n",
              "       [4, 25, 4, 0, 5, 0, 7, 8, 2],\n",
              "       [7, 24, 5, 10, 7, 8, 7, 4, 7]], dtype=object)"
            ]
          },
          "metadata": {
            "tags": []
          },
          "execution_count": 14
        }
      ]
    },
    {
      "cell_type": "code",
      "metadata": {
        "id": "QGME-BCZ1sNb"
      },
      "source": [
        "X_treinamento, X_teste, Y_treinamento, Y_teste = train_test_split(previsores,\n",
        "                                                                  classe,\n",
        "                                                                  test_size = 0.25,\n",
        "                                                                  random_state = 42)"
      ],
      "execution_count": null,
      "outputs": []
    },
    {
      "cell_type": "code",
      "metadata": {
        "id": "j3RppupV10yT",
        "outputId": "366801ee-3a0a-4e18-bdfa-b39047fdd888",
        "colab": {
          "base_uri": "https://localhost:8080/"
        }
      },
      "source": [
        "arvore = DecisionTreeClassifier()\n",
        "arvore.fit(X_treinamento, Y_treinamento)"
      ],
      "execution_count": null,
      "outputs": [
        {
          "output_type": "execute_result",
          "data": {
            "text/plain": [
              "DecisionTreeClassifier(ccp_alpha=0.0, class_weight=None, criterion='gini',\n",
              "                       max_depth=None, max_features=None, max_leaf_nodes=None,\n",
              "                       min_impurity_decrease=0.0, min_impurity_split=None,\n",
              "                       min_samples_leaf=1, min_samples_split=2,\n",
              "                       min_weight_fraction_leaf=0.0, presort='deprecated',\n",
              "                       random_state=None, splitter='best')"
            ]
          },
          "metadata": {
            "tags": []
          },
          "execution_count": 19
        }
      ]
    },
    {
      "cell_type": "code",
      "metadata": {
        "id": "tCsznFok2K8O",
        "outputId": "3639342a-ed0b-4844-bdf7-1fc4d02a20b7",
        "colab": {
          "base_uri": "https://localhost:8080/",
          "height": 668
        }
      },
      "source": [
        "from sklearn import tree\n",
        "tree.plot_tree(arvore)"
      ],
      "execution_count": null,
      "outputs": [
        {
          "output_type": "execute_result",
          "data": {
            "text/plain": [
              "[Text(141.64615384615385, 205.35999999999999, 'X[8] <= 3.5\\ngini = 0.711\\nsamples = 30\\nvalue = [13, 1, 5, 4, 7]'),\n",
              " Text(77.26153846153846, 181.2, 'X[6] <= 8.0\\ngini = 0.34\\nsamples = 10\\nvalue = [8, 0, 0, 1, 1]'),\n",
              " Text(51.50769230769231, 157.04, 'X[2] <= 9.5\\ngini = 0.198\\nsamples = 9\\nvalue = [8, 0, 0, 1, 0]'),\n",
              " Text(25.753846153846155, 132.88, 'gini = 0.0\\nsamples = 8\\nvalue = [8, 0, 0, 0, 0]'),\n",
              " Text(77.26153846153846, 132.88, 'gini = 0.0\\nsamples = 1\\nvalue = [0, 0, 0, 1, 0]'),\n",
              " Text(103.01538461538462, 157.04, 'gini = 0.0\\nsamples = 1\\nvalue = [0, 0, 0, 0, 1]'),\n",
              " Text(206.03076923076924, 181.2, 'X[5] <= 2.5\\ngini = 0.76\\nsamples = 20\\nvalue = [5, 1, 5, 3, 6]'),\n",
              " Text(154.52307692307693, 157.04, 'X[5] <= 0.5\\ngini = 0.48\\nsamples = 5\\nvalue = [0, 0, 0, 3, 2]'),\n",
              " Text(128.76923076923077, 132.88, 'gini = 0.0\\nsamples = 2\\nvalue = [0, 0, 0, 0, 2]'),\n",
              " Text(180.27692307692308, 132.88, 'gini = 0.0\\nsamples = 3\\nvalue = [0, 0, 0, 3, 0]'),\n",
              " Text(257.53846153846155, 157.04, 'X[1] <= 23.5\\ngini = 0.702\\nsamples = 15\\nvalue = [5, 1, 5, 0, 4]'),\n",
              " Text(231.7846153846154, 132.88, 'X[6] <= 6.5\\ngini = 0.675\\nsamples = 13\\nvalue = [5, 1, 5, 0, 2]'),\n",
              " Text(206.03076923076924, 108.72, 'X[7] <= 1.5\\ngini = 0.66\\nsamples = 10\\nvalue = [5, 1, 2, 0, 2]'),\n",
              " Text(180.27692307692308, 84.56, 'gini = 0.0\\nsamples = 2\\nvalue = [0, 0, 2, 0, 0]'),\n",
              " Text(231.7846153846154, 84.56, 'X[5] <= 5.5\\ngini = 0.531\\nsamples = 8\\nvalue = [5, 1, 0, 0, 2]'),\n",
              " Text(180.27692307692308, 60.400000000000006, 'X[2] <= 8.5\\ngini = 0.5\\nsamples = 2\\nvalue = [0, 1, 0, 0, 1]'),\n",
              " Text(154.52307692307693, 36.24000000000001, 'gini = 0.0\\nsamples = 1\\nvalue = [0, 0, 0, 0, 1]'),\n",
              " Text(206.03076923076924, 36.24000000000001, 'gini = 0.0\\nsamples = 1\\nvalue = [0, 1, 0, 0, 0]'),\n",
              " Text(283.2923076923077, 60.400000000000006, 'X[0] <= 4.0\\ngini = 0.278\\nsamples = 6\\nvalue = [5, 0, 0, 0, 1]'),\n",
              " Text(257.53846153846155, 36.24000000000001, 'X[4] <= 5.5\\ngini = 0.5\\nsamples = 2\\nvalue = [1, 0, 0, 0, 1]'),\n",
              " Text(231.7846153846154, 12.079999999999984, 'gini = 0.0\\nsamples = 1\\nvalue = [1, 0, 0, 0, 0]'),\n",
              " Text(283.2923076923077, 12.079999999999984, 'gini = 0.0\\nsamples = 1\\nvalue = [0, 0, 0, 0, 1]'),\n",
              " Text(309.04615384615386, 36.24000000000001, 'gini = 0.0\\nsamples = 4\\nvalue = [4, 0, 0, 0, 0]'),\n",
              " Text(257.53846153846155, 108.72, 'gini = 0.0\\nsamples = 3\\nvalue = [0, 0, 3, 0, 0]'),\n",
              " Text(283.2923076923077, 132.88, 'gini = 0.0\\nsamples = 2\\nvalue = [0, 0, 0, 0, 2]')]"
            ]
          },
          "metadata": {
            "tags": []
          },
          "execution_count": 20
        },
        {
          "output_type": "display_data",
          "data": {
            "image/png": "[encoded data removed]",
            "text/plain": [
              "<Figure size 432x288 with 1 Axes>"
            ]
          },
          "metadata": {
            "tags": [],
            "needs_background": "light"
          }
        }
      ]
    },
    {
      "cell_type": "code",
      "metadata": {
        "id": "_IAAaQRV2NLc",
        "outputId": "0392dd1c-edde-4ecd-c17d-a6e6eaf1e6b4",
        "colab": {
          "base_uri": "https://localhost:8080/"
        }
      },
      "source": [
        "Y_pred = arvore.predict(X_teste)\n",
        "Y_pred"
      ],
      "execution_count": null,
      "outputs": [
        {
          "output_type": "execute_result",
          "data": {
            "text/plain": [
              "array(['Ótimo', 'Ótimo', 'Bom', 'Regular', 'Bom', 'Ótimo', 'Bom', 'Bom',\n",
              "       'Ótimo', 'Bom'], dtype=object)"
            ]
          },
          "metadata": {
            "tags": []
          },
          "execution_count": 22
        }
      ]
    },
    {
      "cell_type": "code",
      "metadata": {
        "id": "oRwmbgF92ghU",
        "outputId": "0d05296f-2a70-4aa3-d1ed-47aa11f595cf",
        "colab": {
          "base_uri": "https://localhost:8080/"
        }
      },
      "source": [
        "from sklearn.metrics import confusion_matrix, accuracy_score\n",
        "accuracy_score(Y_teste, Y_pred)"
      ],
      "execution_count": null,
      "outputs": [
        {
          "output_type": "execute_result",
          "data": {
            "text/plain": [
              "0.1"
            ]
          },
          "metadata": {
            "tags": []
          },
          "execution_count": 23
        }
      ]
    },
    {
      "cell_type": "code",
      "metadata": {
        "id": "sSTI7WkX2p8b",
        "outputId": "e0196fca-350d-4314-d8db-0c935da57e30",
        "colab": {
          "base_uri": "https://localhost:8080/"
        }
      },
      "source": [
        "confusao = confusion_matrix(Y_teste, Y_pred)\n",
        "confusao"
      ],
      "execution_count": null,
      "outputs": [
        {
          "output_type": "execute_result",
          "data": {
            "text/plain": [
              "array([[0, 0, 0, 0, 2],\n",
              "       [1, 0, 1, 0, 1],\n",
              "       [1, 0, 0, 0, 0],\n",
              "       [1, 0, 0, 0, 0],\n",
              "       [2, 0, 0, 0, 1]])"
            ]
          },
          "metadata": {
            "tags": []
          },
          "execution_count": 24
        }
      ]
    },
    {
      "cell_type": "code",
      "metadata": {
        "id": "XX_E9FhH2r-k",
        "outputId": "c740096e-ca21-4575-f5aa-3a12e395e387",
        "colab": {
          "base_uri": "https://localhost:8080/",
          "height": 283
        }
      },
      "source": [
        "import matplotlib.pyplot as plt\n",
        "from sklearn.metrics import plot_confusion_matrix\n",
        "_ = plot_confusion_matrix(arvore, X_teste, Y_teste, cmap='Blues')#, normalize = 'true')"
      ],
      "execution_count": null,
      "outputs": [
        {
          "output_type": "display_data",
          "data": {
            "image/png": "[encoded data removed]",
            "text/plain": [
              "<Figure size 432x288 with 2 Axes>"
            ]
          },
          "metadata": {
            "tags": [],
            "needs_background": "light"
          }
        }
      ]
    },
    {
      "cell_type": "code",
      "metadata": {
        "id": "QleQxY2523wG",
        "outputId": "8505ce2c-450f-4f1a-dbc5-58834e314076",
        "colab": {
          "base_uri": "https://localhost:8080/"
        }
      },
      "source": [
        "from sklearn.metrics import classification_report\n",
        "\n",
        "print(classification_report(Y_teste, Y_pred))"
      ],
      "execution_count": null,
      "outputs": [
        {
          "output_type": "stream",
          "text": [
            "              precision    recall  f1-score   support\n",
            "\n",
            "         Bom       0.00      0.00      0.00         2\n",
            "     Péssimo       0.00      0.00      0.00         3\n",
            "     Regular       0.00      0.00      0.00         1\n",
            "        Ruim       0.00      0.00      0.00         1\n",
            "       Ótimo       0.25      0.33      0.29         3\n",
            "\n",
            "    accuracy                           0.10        10\n",
            "   macro avg       0.05      0.07      0.06        10\n",
            "weighted avg       0.07      0.10      0.09        10\n",
            "\n"
          ],
          "name": "stdout"
        },
        {
          "output_type": "stream",
          "text": [
            "/usr/local/lib/python3.6/dist-packages/sklearn/metrics/_classification.py:1272: UndefinedMetricWarning: Precision and F-score are ill-defined and being set to 0.0 in labels with no predicted samples. Use `zero_division` parameter to control this behavior.\n",
            "  _warn_prf(average, modifier, msg_start, len(result))\n"
          ],
          "name": "stderr"
        }
      ]
    }
  ]
}